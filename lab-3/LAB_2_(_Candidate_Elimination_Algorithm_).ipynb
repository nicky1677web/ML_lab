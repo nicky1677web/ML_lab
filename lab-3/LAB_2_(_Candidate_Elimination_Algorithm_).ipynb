{
  "nbformat": 4,
  "nbformat_minor": 0,
  "metadata": {
    "colab": {
      "name": "LAB - 2 ( Candidate - Elimination Algorithm ).ipynb",
      "provenance": []
    },
    "kernelspec": {
      "name": "python3",
      "display_name": "Python 3"
    }
  },
  "cells": [
    {
      "cell_type": "markdown",
      "metadata": {
        "id": "KlgWYWNoya9Z"
      },
      "source": [
        "# MACHINE LEARNING LAB - 2 ( Candidate - Elimination Algorithm )"
      ]
    },
    {
      "cell_type": "code",
      "metadata": {
        "id": "y6NOJ_Ojwsv9"
      },
      "source": [
        "import numpy as np\n",
        "import pandas as pd"
      ],
      "execution_count": 1,
      "outputs": []
    },
    {
      "cell_type": "code",
      "metadata": {
        "colab": {
          "base_uri": "https://localhost:8080/"
        },
        "id": "xymxIr6ywxwh",
        "outputId": "c78e2c22-4382-4548-9393-e8b6518c5679"
      },
      "source": [
        "# Loading Data from a CSV File\n",
        "data = pd.read_csv('EnjoySport.csv', header=None)\n",
        "print(data)"
      ],
      "execution_count": 2,
      "outputs": [
        {
          "output_type": "stream",
          "text": [
            "       0     1       2       3     4       5    6\n",
            "0  Sunny  Warm  Normal  Strong  Warm    Same  Yes\n",
            "1  Sunny  Warm    High  Strong  Warm    Same  Yes\n",
            "2  Rainy  Cold    High  Strong  Warm  Change   No\n",
            "3  Sunny  Warm    High  Strong  Cool  Change  Yes\n"
          ],
          "name": "stdout"
        }
      ]
    },
    {
      "cell_type": "code",
      "metadata": {
        "colab": {
          "base_uri": "https://localhost:8080/"
        },
        "id": "rVy5RvXLxhG7",
        "outputId": "37ad4f65-655a-449c-d89f-37cedff8b921"
      },
      "source": [
        "# Separating concept features from Target\n",
        "concepts = np.array(data.iloc[:,0:-1])\n",
        "print(concepts)"
      ],
      "execution_count": 3,
      "outputs": [
        {
          "output_type": "stream",
          "text": [
            "[['Sunny' 'Warm' 'Normal' 'Strong' 'Warm' 'Same']\n",
            " ['Sunny' 'Warm' 'High' 'Strong' 'Warm' 'Same']\n",
            " ['Rainy' 'Cold' 'High' 'Strong' 'Warm' 'Change']\n",
            " ['Sunny' 'Warm' 'High' 'Strong' 'Cool' 'Change']]\n"
          ],
          "name": "stdout"
        }
      ]
    },
    {
      "cell_type": "code",
      "metadata": {
        "colab": {
          "base_uri": "https://localhost:8080/"
        },
        "id": "LLG_ENUfxlhM",
        "outputId": "6c479560-dd7e-4dd4-9a0b-ad5bed2ee7d5"
      },
      "source": [
        "# Isolating target into a separate DataFrame\n",
        "# copying last column to target array\n",
        "target = np.array(data.iloc[:,-1])\n",
        "print(target)"
      ],
      "execution_count": 4,
      "outputs": [
        {
          "output_type": "stream",
          "text": [
            "['Yes' 'Yes' 'No' 'Yes']\n"
          ],
          "name": "stdout"
        }
      ]
    },
    {
      "cell_type": "code",
      "metadata": {
        "id": "rzK-2MXIxqpw"
      },
      "source": [
        "def learn(concepts, target):\n",
        "    \n",
        "    '''\n",
        "    learn() function implements the learning method of the Candidate elimination algorithm.\n",
        "    Arguments:\n",
        "        concepts - a data frame with all the features\n",
        "        target - a data frame with corresponding output values\n",
        "    '''\n",
        "\n",
        "    # Initialise S0 with the first instance from concepts\n",
        "    # .copy() makes sure a new list is created instead of just pointing to the same memory location\n",
        "    specific_h = concepts[0].copy()\n",
        "    print(\"\\nInitialization of specific_h and general_h\")\n",
        "    print(specific_h)\n",
        "    #h=[\"#\" for i in range(0,5)]\n",
        "    #print(h)\n",
        "\n",
        "    general_h = [[\"?\" for i in range(len(specific_h))] for i in range(len(specific_h))]\n",
        "    print(general_h)\n",
        "    # The learning iterations\n",
        "    for i, h in enumerate(concepts):\n",
        "\n",
        "        # Checking if the hypothesis has a positive target\n",
        "        if target[i] == \"Yes\":\n",
        "            for x in range(len(specific_h)):\n",
        "\n",
        "                # Change values in S & G only if values change\n",
        "                if h[x] != specific_h[x]:\n",
        "                    specific_h[x] = '?'\n",
        "                    general_h[x][x] = '?'\n",
        "\n",
        "        # Checking if the hypothesis has a positive target\n",
        "        if target[i] == \"No\":\n",
        "            for x in range(len(specific_h)):\n",
        "                # For negative hyposthesis change values only  in G\n",
        "                if h[x] != specific_h[x]:\n",
        "                    general_h[x][x] = specific_h[x]\n",
        "                else:\n",
        "                    general_h[x][x] = '?'\n",
        "\n",
        "        print(\"\\nSteps of Candidate Elimination Algorithm\",i+1)\n",
        "        print(specific_h)\n",
        "        print(general_h)\n",
        "    \n",
        "    # find indices where we have empty rows, meaning those that are unchanged\n",
        "    indices = [i for i, val in enumerate(general_h) if val == ['?', '?', '?', '?', '?', '?']]\n",
        "    for i in indices:\n",
        "        # remove those rows from general_h\n",
        "        general_h.remove(['?', '?', '?', '?', '?', '?'])\n",
        "    # Return final values\n",
        "    return specific_h, general_h"
      ],
      "execution_count": 5,
      "outputs": []
    },
    {
      "cell_type": "code",
      "metadata": {
        "colab": {
          "base_uri": "https://localhost:8080/"
        },
        "id": "avLTkX58xwwP",
        "outputId": "f03e1489-144b-4471-eb1d-9a485730e10b"
      },
      "source": [
        "s_final, g_final = learn(concepts, target)\n",
        "print(\"\\nFinal Specific_h:\", s_final, sep=\"\\n\")\n",
        "print(\"\\nFinal General_h:\", g_final, sep=\"\\n\")"
      ],
      "execution_count": 6,
      "outputs": [
        {
          "output_type": "stream",
          "text": [
            "\n",
            "Initialization of specific_h and general_h\n",
            "['Sunny' 'Warm' 'Normal' 'Strong' 'Warm' 'Same']\n",
            "[['?', '?', '?', '?', '?', '?'], ['?', '?', '?', '?', '?', '?'], ['?', '?', '?', '?', '?', '?'], ['?', '?', '?', '?', '?', '?'], ['?', '?', '?', '?', '?', '?'], ['?', '?', '?', '?', '?', '?']]\n",
            "\n",
            "Steps of Candidate Elimination Algorithm 1\n",
            "['Sunny' 'Warm' 'Normal' 'Strong' 'Warm' 'Same']\n",
            "[['?', '?', '?', '?', '?', '?'], ['?', '?', '?', '?', '?', '?'], ['?', '?', '?', '?', '?', '?'], ['?', '?', '?', '?', '?', '?'], ['?', '?', '?', '?', '?', '?'], ['?', '?', '?', '?', '?', '?']]\n",
            "\n",
            "Steps of Candidate Elimination Algorithm 2\n",
            "['Sunny' 'Warm' '?' 'Strong' 'Warm' 'Same']\n",
            "[['?', '?', '?', '?', '?', '?'], ['?', '?', '?', '?', '?', '?'], ['?', '?', '?', '?', '?', '?'], ['?', '?', '?', '?', '?', '?'], ['?', '?', '?', '?', '?', '?'], ['?', '?', '?', '?', '?', '?']]\n",
            "\n",
            "Steps of Candidate Elimination Algorithm 3\n",
            "['Sunny' 'Warm' '?' 'Strong' 'Warm' 'Same']\n",
            "[['Sunny', '?', '?', '?', '?', '?'], ['?', 'Warm', '?', '?', '?', '?'], ['?', '?', '?', '?', '?', '?'], ['?', '?', '?', '?', '?', '?'], ['?', '?', '?', '?', '?', '?'], ['?', '?', '?', '?', '?', 'Same']]\n",
            "\n",
            "Steps of Candidate Elimination Algorithm 4\n",
            "['Sunny' 'Warm' '?' 'Strong' '?' '?']\n",
            "[['Sunny', '?', '?', '?', '?', '?'], ['?', 'Warm', '?', '?', '?', '?'], ['?', '?', '?', '?', '?', '?'], ['?', '?', '?', '?', '?', '?'], ['?', '?', '?', '?', '?', '?'], ['?', '?', '?', '?', '?', '?']]\n",
            "\n",
            "Final Specific_h:\n",
            "['Sunny' 'Warm' '?' 'Strong' '?' '?']\n",
            "\n",
            "Final General_h:\n",
            "[['Sunny', '?', '?', '?', '?', '?'], ['?', 'Warm', '?', '?', '?', '?']]\n"
          ],
          "name": "stdout"
        }
      ]
    },
    {
      "cell_type": "code",
      "metadata": {
        "id": "Hp2k3gOKzu54"
      },
      "source": [
        ""
      ],
      "execution_count": null,
      "outputs": []
    }
  ]
}