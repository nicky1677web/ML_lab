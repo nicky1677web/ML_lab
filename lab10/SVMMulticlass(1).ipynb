{
  "nbformat": 4,
  "nbformat_minor": 0,
  "metadata": {
    "kernelspec": {
      "display_name": "Python 3",
      "language": "python",
      "name": "python3"
    },
    "language_info": {
      "name": "python",
      "version": "3.6.5",
      "mimetype": "text/x-python",
      "codemirror_mode": {
        "name": "ipython",
        "version": 3
      },
      "pygments_lexer": "ipython3",
      "nbconvert_exporter": "python",
      "file_extension": ".py"
    },
    "colab": {
      "name": "SVMMulticlass.ipynb",
      "provenance": []
    }
  },
  "cells": [
    {
      "cell_type": "markdown",
      "metadata": {
        "_uuid": "7598684e739d1a55535e9e1a43d0d259f05d4c76",
        "id": "ABwgQUfyCBlj"
      },
      "source": [
        "# Training Support Vector Machines for Multiclass Classification "
      ]
    },
    {
      "cell_type": "code",
      "metadata": {
        "_uuid": "8f2839f25d086af736a60e9eeb907d3b93b6e0e5",
        "_cell_guid": "b1076dfc-b9ad-4769-8c92-a6c4dae69d19",
        "trusted": true,
        "colab": {
          "base_uri": "https://localhost:8080/"
        },
        "id": "s-QCBEIaCBlw",
        "outputId": "7b49c91b-2412-4a45-8170-d829d39b1b25"
      },
      "source": [
        "\n",
        "import numpy as np\n",
        "import pylab as pl\n",
        "import pandas as pd\n",
        "import matplotlib.pyplot as plt \n",
        "%matplotlib inline\n",
        "import seaborn as sns\n",
        "from sklearn.utils import shuffle\n",
        "from sklearn.svm import SVC\n",
        "from sklearn.metrics import confusion_matrix,classification_report\n",
        "from sklearn.model_selection import cross_val_score, GridSearchCV\n",
        "\n",
        "import os\n",
        "print(os.listdir())"
      ],
      "execution_count": 1,
      "outputs": [
        {
          "output_type": "stream",
          "text": [
            "['.config', 'train.csv', 'test.csv', '.ipynb_checkpoints', 'sample_data']\n"
          ],
          "name": "stdout"
        }
      ]
    },
    {
      "cell_type": "markdown",
      "metadata": {
        "_uuid": "33307fccd56232da9374ba513d18959b8c4e9d0f",
        "id": "WKLqoF6yCBly"
      },
      "source": [
        "### Load the Train and Test set"
      ]
    },
    {
      "cell_type": "code",
      "metadata": {
        "_cell_guid": "79c7e3d0-c299-4dcb-8224-4455121ee9b0",
        "_uuid": "d629ff2d2480ee46fbb7e2d37f6b5fab8052498a",
        "trusted": true,
        "id": "-IzuxebZCBl0"
      },
      "source": [
        "train = shuffle(pd.read_csv(\"train.csv\"))\n",
        "test = shuffle(pd.read_csv(\"test.csv\"))"
      ],
      "execution_count": 2,
      "outputs": []
    },
    {
      "cell_type": "markdown",
      "metadata": {
        "_uuid": "e993e4190daa3f4a0518ed12cda67a1242329576",
        "id": "ip-ElmV2CBl1"
      },
      "source": [
        "### Check for missing values in the dataset"
      ]
    },
    {
      "cell_type": "code",
      "metadata": {
        "_uuid": "2c1a405bd11dd03fb3c5dc1638123ac731855f48",
        "trusted": true,
        "colab": {
          "base_uri": "https://localhost:8080/"
        },
        "id": "uyWDbCKQCBl3",
        "outputId": "af1030a3-9cc4-48c6-edf9-141c5b7ddae6"
      },
      "source": [
        "print(\"Any missing sample in training set:\",train.isnull().values.any())\n",
        "print(\"Any missing sample in test set:\",test.isnull().values.any(), \"\\n\")\n"
      ],
      "execution_count": 3,
      "outputs": [
        {
          "output_type": "stream",
          "text": [
            "Any missing sample in training set: False\n",
            "Any missing sample in test set: False \n",
            "\n"
          ],
          "name": "stdout"
        }
      ]
    },
    {
      "cell_type": "markdown",
      "metadata": {
        "_uuid": "e1e38202e14cc4aa861a00965bd2bd9a349da2d3",
        "id": "Dl7XK09QCBl4"
      },
      "source": [
        "### Frequency Distribution of the Outome"
      ]
    },
    {
      "cell_type": "code",
      "metadata": {
        "_uuid": "055e3422bcb69ef382451a43a5a08bdf3c3901f8",
        "trusted": true,
        "colab": {
          "base_uri": "https://localhost:8080/",
          "height": 269
        },
        "id": "DWY0jnX_CBl4",
        "outputId": "90fe6696-fa21-4575-d512-2ecd7400b876"
      },
      "source": [
        "#Frequency distribution of classes\"\n",
        "train_outcome = pd.crosstab(index=train[\"Activity\"],  # Make a crosstab\n",
        "                              columns=\"count\")      # Name the count column\n",
        "\n",
        "train_outcome\n"
      ],
      "execution_count": 4,
      "outputs": [
        {
          "output_type": "execute_result",
          "data": {
            "text/html": [
              "<div>\n",
              "<style scoped>\n",
              "    .dataframe tbody tr th:only-of-type {\n",
              "        vertical-align: middle;\n",
              "    }\n",
              "\n",
              "    .dataframe tbody tr th {\n",
              "        vertical-align: top;\n",
              "    }\n",
              "\n",
              "    .dataframe thead th {\n",
              "        text-align: right;\n",
              "    }\n",
              "</style>\n",
              "<table border=\"1\" class=\"dataframe\">\n",
              "  <thead>\n",
              "    <tr style=\"text-align: right;\">\n",
              "      <th>col_0</th>\n",
              "      <th>count</th>\n",
              "    </tr>\n",
              "    <tr>\n",
              "      <th>Activity</th>\n",
              "      <th></th>\n",
              "    </tr>\n",
              "  </thead>\n",
              "  <tbody>\n",
              "    <tr>\n",
              "      <th>LAYING</th>\n",
              "      <td>1407</td>\n",
              "    </tr>\n",
              "    <tr>\n",
              "      <th>SITTING</th>\n",
              "      <td>1286</td>\n",
              "    </tr>\n",
              "    <tr>\n",
              "      <th>STANDING</th>\n",
              "      <td>1374</td>\n",
              "    </tr>\n",
              "    <tr>\n",
              "      <th>WALKING</th>\n",
              "      <td>1226</td>\n",
              "    </tr>\n",
              "    <tr>\n",
              "      <th>WALKING_DOWNSTAIRS</th>\n",
              "      <td>986</td>\n",
              "    </tr>\n",
              "    <tr>\n",
              "      <th>WALKING_UPSTAIRS</th>\n",
              "      <td>1073</td>\n",
              "    </tr>\n",
              "  </tbody>\n",
              "</table>\n",
              "</div>"
            ],
            "text/plain": [
              "col_0               count\n",
              "Activity                 \n",
              "LAYING               1407\n",
              "SITTING              1286\n",
              "STANDING             1374\n",
              "WALKING              1226\n",
              "WALKING_DOWNSTAIRS    986\n",
              "WALKING_UPSTAIRS     1073"
            ]
          },
          "metadata": {
            "tags": []
          },
          "execution_count": 4
        }
      ]
    },
    {
      "cell_type": "markdown",
      "metadata": {
        "_uuid": "a21236c02b43101be1cc9d834e86e8459fe8618f",
        "id": "W_24MVInCBl5"
      },
      "source": [
        "### Visualizing Outcome Distribution "
      ]
    },
    {
      "cell_type": "code",
      "metadata": {
        "_uuid": "542c5c78e2e73b387712f9149066cf36d8563fae",
        "trusted": true,
        "colab": {
          "base_uri": "https://localhost:8080/",
          "height": 297
        },
        "id": "D7q_aLhtCBl6",
        "outputId": "c7e33202-9507-4e9a-9d11-7c35dfedaef9"
      },
      "source": [
        "# Visualizing Outcome Distribution \n",
        "temp = train[\"Activity\"].value_counts()\n",
        "df = pd.DataFrame({'labels': temp.index,\n",
        "                   'values': temp.values\n",
        "                  })\n",
        "\n",
        "#df.plot(kind='pie',labels='labels',values='values', title='Activity Ditribution',subplots= \"True\")\n",
        "\n",
        "labels = df['labels']\n",
        "sizes = df['values']\n",
        "colors = ['yellowgreen', 'gold', 'lightskyblue', 'lightcoral','cyan','lightpink']\n",
        "patches, texts = plt.pie(sizes, colors=colors, shadow=True, startangle=90, pctdistance=1.1, labeldistance=1.2)\n",
        "plt.legend(patches, labels, loc=\"best\")\n",
        "plt.axis('equal')\n",
        "plt.tight_layout()\n",
        "plt.show()\n"
      ],
      "execution_count": 5,
      "outputs": [
        {
          "output_type": "display_data",
          "data": {
            "image/png": "[encoded data removed]",
            "text/plain": [
              "<Figure size 432x288 with 1 Axes>"
            ]
          },
          "metadata": {
            "tags": []
          }
        }
      ]
    },
    {
      "cell_type": "markdown",
      "metadata": {
        "_uuid": "9fc1cca22b036f2ac4b90a6b3e8f45e116b24990",
        "id": "swswxgOZCBl7"
      },
      "source": [
        "### Normalize the Predictor(Feature Set) for SVM training "
      ]
    },
    {
      "cell_type": "code",
      "metadata": {
        "_uuid": "8769e8194b0f01cf7b11edc0251af286a10a05e4",
        "trusted": true,
        "colab": {
          "base_uri": "https://localhost:8080/"
        },
        "id": "TzzrSe1TCBl9",
        "outputId": "9b88facb-72b8-4e48-a537-40dd10917113"
      },
      "source": [
        "# Seperating Predictors and Outcome values from train and test sets\n",
        "X_train = pd.DataFrame(train.drop(['Activity','subject'],axis=1))\n",
        "Y_train_label = train.Activity.values.astype(str)\n",
        "X_test = pd.DataFrame(test.drop(['Activity','subject'],axis=1))\n",
        "Y_test_label = test.Activity.values.astype(str)\n",
        "\n",
        "# Dimension of Train and Test set \n",
        "print(\"Dimension of Train set\",X_train.shape)\n",
        "print(\"Dimension of Test set\",X_test.shape,\"\\n\")\n",
        "\n",
        "# Transforming non numerical labels into numerical labels\n",
        "from sklearn import preprocessing\n",
        "encoder = preprocessing.LabelEncoder()\n",
        "\n",
        "# encoding train labels \n",
        "encoder.fit(Y_train_label)\n",
        "Y_train = encoder.transform(Y_train_label)\n",
        "\n",
        "# encoding test labels \n",
        "encoder.fit(Y_test_label)\n",
        "Y_test = encoder.transform(Y_test_label)\n",
        "\n",
        "#Total Number of Continous and Categorical features in the training set\n",
        "num_cols = X_train._get_numeric_data().columns\n",
        "print(\"Number of numeric features:\",num_cols.size)\n",
        "#list(set(X_train.columns) - set(num_cols))\n",
        "\n",
        "\n",
        "names_of_predictors = list(X_train.columns.values)\n",
        "\n",
        "# Scaling the Train and Test feature set \n",
        "from sklearn.preprocessing import StandardScaler\n",
        "scaler = StandardScaler()\n",
        "X_train_scaled = scaler.fit_transform(X_train)\n",
        "X_test_scaled = scaler.transform(X_test)\n"
      ],
      "execution_count": 6,
      "outputs": [
        {
          "output_type": "stream",
          "text": [
            "Dimension of Train set (7352, 561)\n",
            "Dimension of Test set (2947, 561) \n",
            "\n",
            "Number of numeric features: 561\n"
          ],
          "name": "stdout"
        }
      ]
    },
    {
      "cell_type": "markdown",
      "metadata": {
        "_uuid": "4c422604ae452b9ace06f3c6931a049f764cedfd",
        "id": "7SF0memmCBl-"
      },
      "source": [
        "### Hyperparameter tuning using grid search and cross validation"
      ]
    },
    {
      "cell_type": "code",
      "metadata": {
        "_uuid": "8d671c6040d43dc07b988654498f69e58c43e470",
        "trusted": true,
        "id": "9Sx4C5W2CBl_"
      },
      "source": [
        "#Libraries to Build Ensemble Model : Random Forest Classifier \n",
        "# Create the parameter grid based on the results of random search \n",
        "params_grid = [{'kernel': ['rbf'], 'gamma': [1e-3, 1e-4],\n",
        "                     'C': [1, 10, 100, 1000]},\n",
        "                    {'kernel': ['linear'], 'C': [1, 10, 100, 1000]}]\n"
      ],
      "execution_count": 7,
      "outputs": []
    },
    {
      "cell_type": "markdown",
      "metadata": {
        "_uuid": "b793c9dd270b8c6f5fcf8bf4bd34cafc16d8f01c",
        "id": "6pE8U3tICBl_"
      },
      "source": [
        "### Training SVM model using radial kernel"
      ]
    },
    {
      "cell_type": "code",
      "metadata": {
        "_uuid": "763f0f44847242aa484fa301f23f3367118e9c9f",
        "trusted": true,
        "colab": {
          "base_uri": "https://localhost:8080/"
        },
        "id": "suZHMEkYCBl_",
        "outputId": "95903e2d-44cc-4c1c-d81a-0adbadbc85ce"
      },
      "source": [
        "# Performing CV to tune parameters for best SVM fit \n",
        "svm_model = GridSearchCV(SVC(), params_grid, cv=5)\n",
        "svm_model.fit(X_train_scaled, Y_train)\n"
      ],
      "execution_count": 8,
      "outputs": [
        {
          "output_type": "execute_result",
          "data": {
            "text/plain": [
              "GridSearchCV(cv=5, error_score=nan,\n",
              "             estimator=SVC(C=1.0, break_ties=False, cache_size=200,\n",
              "                           class_weight=None, coef0=0.0,\n",
              "                           decision_function_shape='ovr', degree=3,\n",
              "                           gamma='scale', kernel='rbf', max_iter=-1,\n",
              "                           probability=False, random_state=None, shrinking=True,\n",
              "                           tol=0.001, verbose=False),\n",
              "             iid='deprecated', n_jobs=None,\n",
              "             param_grid=[{'C': [1, 10, 100, 1000], 'gamma': [0.001, 0.0001],\n",
              "                          'kernel': ['rbf']},\n",
              "                         {'C': [1, 10, 100, 1000], 'kernel': ['linear']}],\n",
              "             pre_dispatch='2*n_jobs', refit=True, return_train_score=False,\n",
              "             scoring=None, verbose=0)"
            ]
          },
          "metadata": {
            "tags": []
          },
          "execution_count": 8
        }
      ]
    },
    {
      "cell_type": "markdown",
      "metadata": {
        "_uuid": "46f747a23e396621b636cd18fe252f8156e30023",
        "id": "d2zuMsY9CBmA"
      },
      "source": [
        "### Confusion Matrix  and Accuracy Score "
      ]
    },
    {
      "cell_type": "code",
      "metadata": {
        "_uuid": "93e0a22c486017ed59d8837b95a8eeeaeab6a59b",
        "trusted": true,
        "colab": {
          "base_uri": "https://localhost:8080/"
        },
        "id": "mKvn15_ICBmA",
        "outputId": "add69684-5cda-499b-e59c-c7eb2a0e3809"
      },
      "source": [
        "# View the accuracy score\n",
        "print('Best score for training data:', svm_model.best_score_,\"\\n\") \n",
        "\n",
        "# View the best parameters for the model found using grid search\n",
        "print('Best C:',svm_model.best_estimator_.C,\"\\n\") \n",
        "print('Best Kernel:',svm_model.best_estimator_.kernel,\"\\n\")\n",
        "print('Best Gamma:',svm_model.best_estimator_.gamma,\"\\n\")\n",
        "\n",
        "final_model = svm_model.best_estimator_\n",
        "Y_pred = final_model.predict(X_test_scaled)\n",
        "Y_pred_label = list(encoder.inverse_transform(Y_pred))"
      ],
      "execution_count": 9,
      "outputs": [
        {
          "output_type": "stream",
          "text": [
            "Best score for training data: 0.9865340344159417 \n",
            "\n",
            "Best C: 1000 \n",
            "\n",
            "Best Kernel: rbf \n",
            "\n",
            "Best Gamma: 0.001 \n",
            "\n"
          ],
          "name": "stdout"
        }
      ]
    },
    {
      "cell_type": "code",
      "metadata": {
        "_uuid": "52792b55ee8429aecdce0ca8592131764ce66828",
        "collapsed": true,
        "jupyter": {
          "outputs_hidden": true
        },
        "trusted": true,
        "colab": {
          "base_uri": "https://localhost:8080/"
        },
        "id": "ONDMz4AGCBmB",
        "outputId": "f627ec22-3b9f-42a8-a933-731630fe7d08"
      },
      "source": [
        "# Making the Confusion Matrix\n",
        "#print(pd.crosstab(Y_test_label, Y_pred_label, rownames=['Actual Activity'], colnames=['Predicted Activity']))\n",
        "print(confusion_matrix(Y_test_label,Y_pred_label))\n",
        "print(\"\\n\")\n",
        "print(classification_report(Y_test_label,Y_pred_label))\n",
        "\n",
        "print(\"Training set score for SVM: %f\" % final_model.score(X_train_scaled , Y_train))\n",
        "print(\"Testing  set score for SVM: %f\" % final_model.score(X_test_scaled  , Y_test ))\n",
        "\n",
        "svm_model.score"
      ],
      "execution_count": 10,
      "outputs": [
        {
          "output_type": "stream",
          "text": [
            "[[537   0   0   0   0   0]\n",
            " [  3 439  48   0   0   1]\n",
            " [  0  11 521   0   0   0]\n",
            " [  0   0   0 486   4   6]\n",
            " [  0   0   0   6 389  25]\n",
            " [  0   0   0  15   2 454]]\n",
            "\n",
            "\n",
            "                    precision    recall  f1-score   support\n",
            "\n",
            "            LAYING       0.99      1.00      1.00       537\n",
            "           SITTING       0.98      0.89      0.93       491\n",
            "          STANDING       0.92      0.98      0.95       532\n",
            "           WALKING       0.96      0.98      0.97       496\n",
            "WALKING_DOWNSTAIRS       0.98      0.93      0.95       420\n",
            "  WALKING_UPSTAIRS       0.93      0.96      0.95       471\n",
            "\n",
            "          accuracy                           0.96      2947\n",
            "         macro avg       0.96      0.96      0.96      2947\n",
            "      weighted avg       0.96      0.96      0.96      2947\n",
            "\n",
            "Training set score for SVM: 1.000000\n",
            "Testing  set score for SVM: 0.958941\n"
          ],
          "name": "stdout"
        },
        {
          "output_type": "execute_result",
          "data": {
            "text/plain": [
              "<bound method BaseSearchCV.score of GridSearchCV(cv=5, error_score=nan,\n",
              "             estimator=SVC(C=1.0, break_ties=False, cache_size=200,\n",
              "                           class_weight=None, coef0=0.0,\n",
              "                           decision_function_shape='ovr', degree=3,\n",
              "                           gamma='scale', kernel='rbf', max_iter=-1,\n",
              "                           probability=False, random_state=None, shrinking=True,\n",
              "                           tol=0.001, verbose=False),\n",
              "             iid='deprecated', n_jobs=None,\n",
              "             param_grid=[{'C': [1, 10, 100, 1000], 'gamma': [0.001, 0.0001],\n",
              "                          'kernel': ['rbf']},\n",
              "                         {'C': [1, 10, 100, 1000], 'kernel': ['linear']}],\n",
              "             pre_dispatch='2*n_jobs', refit=True, return_train_score=False,\n",
              "             scoring=None, verbose=0)>"
            ]
          },
          "metadata": {
            "tags": []
          },
          "execution_count": 10
        }
      ]
    }
  ]
}